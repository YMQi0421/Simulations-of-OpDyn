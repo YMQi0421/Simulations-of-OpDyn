{
 "cells": [
  {
   "cell_type": "code",
   "execution_count": 2,
   "metadata": {},
   "outputs": [],
   "source": [
    "# WS-cooperation\n",
    "from scipy.io import savemat\n",
    "import numpy as np\n",
    "\n",
    "Shannon_action_value = np.load('../HDD/ResultI_Shannon_action_value_WS.npy')\n",
    "Shannon_value = np.load('../HDD/ResultI_Shannon_value_WS.npy')\n",
    "state_discrete_full = np.load('../HDD/ResultI_opinion_state_WS.npy')\n",
    "action_discrete_full = np.load('../HDD/ResultI_action_state_WS.npy')\n",
    "WeightedMatrix_full = np.load('../HDD/ResultI_weight_state_WS.npy')\n",
    "\n",
    "WeightedMatrix = WeightedMatrix_full[0,:,:]\n",
    "\n",
    "data_shannon_dict_r = {\"Shannon_value\":Shannon_value, \n",
    "             \"Shannon_action_value\":Shannon_action_value}\n",
    "data_states_dict_r = {\"state_discrete_full\":state_discrete_full,\n",
    "             \"action_discrete_full\":action_discrete_full,\n",
    "             \"WeightedMatrix\":WeightedMatrix}\n",
    "            #  \"WeightedMatrix_full_random\":WeightedMatrix_full_random}\n",
    "\n",
    "savemat(\"WS_shannon_cooperation.mat\", data_shannon_dict_r)\n",
    "savemat(\"WS_states_cooperation.mat\", data_states_dict_r)"
   ]
  },
  {
   "cell_type": "code",
   "execution_count": 3,
   "metadata": {},
   "outputs": [],
   "source": [
    "# WS-competition\n",
    "from scipy.io import savemat\n",
    "import numpy as np\n",
    "\n",
    "Shannon_action_value = np.load('../HDD/ResultI_Shannon_action_value_WS_c.npy')\n",
    "Shannon_value = np.load('../HDD/ResultI_Shannon_value_WS_c.npy')\n",
    "state_discrete_full = np.load('../HDD/ResultI_opinion_state_WS_c.npy')\n",
    "action_discrete_full = np.load('../HDD/ResultI_action_state_WS_c.npy')\n",
    "WeightedMatrix_full = np.load('../HDD/ResultI_weight_state_WS_c.npy')\n",
    "\n",
    "WeightedMatrix = WeightedMatrix_full[0,:,:]\n",
    "\n",
    "data_shannon_dict_r = {\"Shannon_value\":Shannon_value, \n",
    "             \"Shannon_action_value\":Shannon_action_value}\n",
    "data_states_dict_r = {\"state_discrete_full\":state_discrete_full,\n",
    "             \"action_discrete_full\":action_discrete_full,\n",
    "             \"WeightedMatrix\":WeightedMatrix}\n",
    "            #  \"WeightedMatrix_full_random\":WeightedMatrix_full_random}\n",
    "\n",
    "savemat(\"WS_shannon_competition.mat\", data_shannon_dict_r)\n",
    "savemat(\"WS_states_competition.mat\", data_states_dict_r)"
   ]
  },
  {
   "cell_type": "code",
   "execution_count": null,
   "metadata": {},
   "outputs": [],
   "source": [
    "# SF-cooperation\n",
    "from scipy.io import savemat\n",
    "import numpy as np\n",
    "\n",
    "Shannon_action_value = np.load('../HDD/ResultI_Shannon_action_value_SF.npy')\n",
    "Shannon_value = np.load('../HDD/ResultI_Shannon_value_SF.npy')\n",
    "state_discrete_full = np.load('../HDD/ResultI_opinion_state_SF.npy')\n",
    "action_discrete_full = np.load('../HDD/ResultI_action_state_SF.npy')\n",
    "WeightedMatrix_full = np.load('../HDD/ResultI_weight_state_SF.npy')\n",
    "\n",
    "WeightedMatrix = WeightedMatrix_full[0,:,:]\n",
    "\n",
    "data_shannon_dict_r = {\"Shannon_value\":Shannon_value, \n",
    "             \"Shannon_action_value\":Shannon_action_value}\n",
    "data_states_dict_r = {\"state_discrete_full\":state_discrete_full,\n",
    "             \"action_discrete_full\":action_discrete_full,\n",
    "             \"WeightedMatrix\":WeightedMatrix}\n",
    "            #  \"WeightedMatrix_full_random\":WeightedMatrix_full_random}\n",
    "\n",
    "savemat(\"SF_shannon_cooperation.mat\", data_shannon_dict_r)\n",
    "savemat(\"SF_states_cooperation.mat\", data_states_dict_r)"
   ]
  },
  {
   "cell_type": "code",
   "execution_count": null,
   "metadata": {},
   "outputs": [],
   "source": [
    "# SF-competition\n",
    "from scipy.io import savemat\n",
    "import numpy as np\n",
    "\n",
    "Shannon_action_value = np.load('../HDD/ResultI_Shannon_action_value_SF_c.npy')\n",
    "Shannon_value = np.load('../HDD/ResultI_Shannon_value_SF_c.npy')\n",
    "state_discrete_full = np.load('../HDD/ResultI_opinion_state_SF_c.npy')\n",
    "action_discrete_full = np.load('../HDD/ResultI_action_state_SF_c.npy')\n",
    "WeightedMatrix_full = np.load('../HDD/ResultI_weight_state_SF_c.npy')\n",
    "\n",
    "WeightedMatrix = WeightedMatrix_full[0,:,:]\n",
    "\n",
    "data_shannon_dict_r = {\"Shannon_value\":Shannon_value, \n",
    "             \"Shannon_action_value\":Shannon_action_value}\n",
    "data_states_dict_r = {\"state_discrete_full\":state_discrete_full,\n",
    "             \"action_discrete_full\":action_discrete_full,\n",
    "             \"WeightedMatrix\":WeightedMatrix}\n",
    "            #  \"WeightedMatrix_full_random\":WeightedMatrix_full_random}\n",
    "\n",
    "savemat(\"SF_shannon_competition.mat\", data_shannon_dict_r)\n",
    "savemat(\"SF_states_competition.mat\", data_states_dict_r)"
   ]
  }
 ],
 "metadata": {
  "kernelspec": {
   "display_name": "qiyimeng",
   "language": "python",
   "name": "python3"
  },
  "language_info": {
   "codemirror_mode": {
    "name": "ipython",
    "version": 3
   },
   "file_extension": ".py",
   "mimetype": "text/x-python",
   "name": "python",
   "nbconvert_exporter": "python",
   "pygments_lexer": "ipython3",
   "version": "3.10.12"
  }
 },
 "nbformat": 4,
 "nbformat_minor": 2
}
